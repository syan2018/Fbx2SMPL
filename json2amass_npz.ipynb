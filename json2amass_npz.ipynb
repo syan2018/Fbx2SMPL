{
 "cells": [
  {
   "cell_type": "code",
   "execution_count": 1,
   "metadata": {},
   "outputs": [],
   "source": [
    "import numpy as np\n",
    "import pandas as pd\n",
    "import json\n",
    "\n",
    "root_joint_name = \"m_avg_root\"\n",
    "\n",
    "# 获取映射表\n",
    "mapping_table = pd.read_csv(\"keys_mapping_new.csv\")\n",
    "mapping_table.set_index('fbx_name', inplace=True)\n",
    "\n",
    "# mapping_table"
   ]
  },
  {
   "cell_type": "code",
   "execution_count": 2,
   "metadata": {},
   "outputs": [],
   "source": [
    "import os\n",
    "\n",
    "def get_changed_extention_abs_path(abs_path,ext):\n",
    "    return os.path.splitext(abs_path)[0]+\".\"+ext.replace(\".\",\"\")"
   ]
  },
  {
   "cell_type": "code",
   "execution_count": 3,
   "metadata": {},
   "outputs": [],
   "source": [
    "\n",
    "def json2amass_npz(json_path):\n",
    "\n",
    "    pos_x = \"position_x\"\n",
    "    pos_y = \"position_y\"\n",
    "    pos_z = \"position_z\"\n",
    "    rot_x = \"rotation_x\"\n",
    "    rot_y = \"rotation_y\"\n",
    "    rot_z = \"rotation_z\"\n",
    "\n",
    "    with open(json_path,'r',encoding = 'utf-8') as fp:\n",
    "        data = json.load(fp)\n",
    "        frame_length = data[\"frame_length\"]\n",
    "\n",
    "        # 通用\n",
    "        gender = 'male' # 性别\n",
    "        mocap_framerate = 30 # 帧率\n",
    "        betas = np.zeros(16) # 形状参数，默认为0\n",
    "        dmpls = np.zeros((frame_length, 8)) # 软组织系数，默认为0\n",
    "\n",
    "        # 更新\n",
    "        trans = np.zeros((frame_length, 3)) # 全局平移\n",
    "        poses = np.zeros((frame_length, 156)) # 姿势参数\n",
    "\n",
    "        # 处理每帧数据\n",
    "        for frame_data in data[\"frame_sequence\"]:\n",
    "            # 第几帧索引\n",
    "            frame_index = frame_data[\"frame_number\"]\n",
    "\n",
    "\n",
    "            # 处理关节点数据\n",
    "            for joint_data in frame_data[\"joint_position\"]:\n",
    "                \n",
    "                joint_name = joint_data[\"joint_name\"]\n",
    "\n",
    "                if (joint_name == root_joint_name):\n",
    "                            # 把pos赋给全局平移\n",
    "                    trans[frame_index, :] = [joint_data[pos_x], \n",
    "                                            joint_data[pos_y], \n",
    "                                            joint_data[pos_z]]\n",
    "                else:\n",
    "                    # 尝试获取当前关节序号\n",
    "                    try:\n",
    "                        order = mapping_table.loc[joint_name][\"order\"]\n",
    "                    except KeyError:\n",
    "                        continue\n",
    "\n",
    "                    poses[frame_index, order*3] = joint_data[rot_x]\n",
    "                    poses[frame_index, order*3+1] = joint_data[rot_y]\n",
    "                    poses[frame_index, order*3+2] = joint_data[rot_z]\n",
    "\n",
    "        # 角度值转弧度制\n",
    "        poses = np.deg2rad(poses)\n",
    "        # print(trans)\n",
    "\n",
    "        np.savez(get_changed_extention_abs_path(json_path,\".npz\"), trans=trans, gender=gender, mocap_framerate=mocap_framerate, betas=betas, dmpls=dmpls, poses=poses)\n"
   ]
  },
  {
   "cell_type": "code",
   "execution_count": 24,
   "metadata": {},
   "outputs": [],
   "source": [
    "data_path = './TestData/'\n",
    "file_name = 'a020_032100.json'\n",
    "\n",
    "\n",
    "full_path = data_path + file_name\n",
    "\n",
    "json2amass_npz(full_path)"
   ]
  },
  {
   "cell_type": "code",
   "execution_count": 30,
   "metadata": {},
   "outputs": [],
   "source": [
    "import os\n",
    "import glob\n",
    "\n",
    "# 指定目录路径\n",
    "dir_path = r'F:\\AI Repository\\Motion Diffusion\\SoulsAnim\\BB'\n",
    "\n",
    "# 获取目录中所有的 JSON 文件\n",
    "json_files = glob.glob(os.path.join(dir_path, '*.json'))\n",
    "\n",
    "i = 0\n",
    "\n",
    "# 输出 JSON 文件名列表\n",
    "for file_path in json_files:\n",
    "    # print(os.path.basename(file_path))\n",
    "    json2amass_npz(file_path)\n",
    "\n",
    "    i = i + 1\n",
    "    print(i)\n"
   ]
  }
 ],
 "metadata": {
  "kernelspec": {
   "display_name": "MiniIK",
   "language": "python",
   "name": "python3"
  },
  "language_info": {
   "codemirror_mode": {
    "name": "ipython",
    "version": 3
   },
   "file_extension": ".py",
   "mimetype": "text/x-python",
   "name": "python",
   "nbconvert_exporter": "python",
   "pygments_lexer": "ipython3",
   "version": "3.10.8"
  },
  "orig_nbformat": 4
 },
 "nbformat": 4,
 "nbformat_minor": 2
}
