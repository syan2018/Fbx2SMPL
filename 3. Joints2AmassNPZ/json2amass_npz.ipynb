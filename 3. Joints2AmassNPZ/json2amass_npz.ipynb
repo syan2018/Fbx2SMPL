{
 "cells": [
  {
   "attachments": {},
   "cell_type": "markdown",
   "metadata": {},
   "source": [
    "# Joints 2 SMPL 映射关系\n",
    "\n",
    "需要通过手动填写 keys_mapping_new.csv 文件确定导出 Joints 列表与 SMPL 骨骼名的映射关系\n",
    "\n",
    "如下所示：\n",
    "\n",
    "```csv\n",
    "order,smpl_name,fbx_name\n",
    "0,pelvis,m_avg_Pelvis\n",
    "1,left leg root,m_avg_L_Hip\n",
    "2,right leg root,m_avg_R_Hip\n",
    "```"
   ]
  },
  {
   "cell_type": "code",
   "execution_count": 18,
   "metadata": {},
   "outputs": [],
   "source": [
    "import numpy as np\n",
    "import pandas as pd\n",
    "import json\n",
    "\n",
    "pelvis_joint_name = \"m_avg_Pelvis\"\n",
    "\n",
    "# 获取映射表\n",
    "mapping_table = pd.read_csv(\"keys_mapping.csv\")\n",
    "mapping_table.set_index('fbx_name', inplace=True)\n",
    "\n",
    "# mapping_table"
   ]
  },
  {
   "cell_type": "code",
   "execution_count": 19,
   "metadata": {},
   "outputs": [],
   "source": [
    "import os\n",
    "\n",
    "def get_changed_extention_abs_path(abs_path,ext):\n",
    "    return os.path.splitext(abs_path)[0]+\".\"+ext.replace(\".\",\"\")"
   ]
  },
  {
   "cell_type": "code",
   "execution_count": 28,
   "metadata": {},
   "outputs": [],
   "source": [
    "from scipy.spatial.transform import Rotation\n",
    "\n",
    "def json2amass_npz(json_path, mapping_table):\n",
    "\n",
    "    with open(json_path, 'r', encoding='utf-8') as fp:\n",
    "        data = json.load(fp)\n",
    "        frame_length = data[\"frame_length\"]\n",
    "\n",
    "        # 通用\n",
    "        gender = 'male'                         # 性别\n",
    "        mocap_framerate = 30                    # 帧率\n",
    "        betas = np.zeros(16)                    # 形状参数，默认为0\n",
    "        dmpls = np.zeros((frame_length, 8))     # 软组织系数，默认为0\n",
    "\n",
    "        # 更新\n",
    "        trans = np.zeros((frame_length, 3))     # 全局平移\n",
    "        poses = np.zeros((frame_length, 156))   # 姿势参数\n",
    "\n",
    "        # 处理每帧数据\n",
    "        for frame_data in data[\"frame_sequence\"]:\n",
    "            # 第几帧索引\n",
    "            frame_index = frame_data[\"frame_number\"]\n",
    "\n",
    "            pelvis_position = np.zeros(3)\n",
    "\n",
    "            joint_positions = {}\n",
    "            joint_rotations = {}\n",
    "\n",
    "            # 处理关节点数据\n",
    "            for joint_data in frame_data[\"joint_position\"]:\n",
    "\n",
    "                joint_name = joint_data[\"joint_name\"]\n",
    "                # 尝试获取当前关节序号\n",
    "\n",
    "                if joint_name not in mapping_table.index:\n",
    "                    continue\n",
    "\n",
    "\n",
    "                order = mapping_table.loc[joint_name][\"order\"]\n",
    "                joint_positions[order] = np.array([joint_data[\"position_x\"],\n",
    "                                                -joint_data[\"position_z\"],\n",
    "                                                joint_data[\"position_y\"]])\n",
    "\n",
    "                if joint_name == pelvis_joint_name:\n",
    "                    pelvis_position = joint_positions[order]\n",
    "\n",
    "                # 获取欧拉角\n",
    "                euler_angles = np.array([joint_data[\"rotation_x\"],\n",
    "                                        joint_data[\"rotation_y\"],\n",
    "                                        joint_data[\"rotation_z\"]])\n",
    "\n",
    "                euler_angles = (euler_angles + 180) % 360 - 180\n",
    "                # 将欧拉角转换为轴角表示法\n",
    "                joint_rotations[order] = Rotation.from_euler('xyz', euler_angles, degrees=True).as_rotvec()\n",
    "                        \n",
    "\n",
    "                \n",
    "                \n",
    "            for order in joint_rotations.keys():\n",
    "                poses[frame_index, order * 3:(order + 1) * 3] = joint_rotations[order]\n",
    "\n",
    "            # 计算m_avg_Pelvis和m_avg_root累计的位置变化\n",
    "            \n",
    "            trans[frame_index, :] = pelvis_position * 0.01\n",
    "\n",
    "    # 将数据保存为AMASS格式（NPZ文件）\n",
    "    np.savez(get_changed_extention_abs_path(json_path, \".npz\"), trans=trans, gender=gender, mocap_framerate=mocap_framerate, betas=betas, dmpls=dmpls, poses=poses)"
   ]
  },
  {
   "cell_type": "code",
   "execution_count": 32,
   "metadata": {},
   "outputs": [
    {
     "name": "stdout",
     "output_type": "stream",
     "text": [
      "Index(['order', 'smpl_name'], dtype='object')\n"
     ]
    },
    {
     "name": "stderr",
     "output_type": "stream",
     "text": [
      "Processing files:  10%|█         | 769/7644 [03:33<56:30,  2.03file/s]  c:\\Users\\Syan\\anaconda3\\envs\\mdm\\lib\\site-packages\\ipykernel_launcher.py:53: RuntimeWarning: invalid value encountered in remainder\n",
      "Processing files: 100%|██████████| 7644/7644 [29:35<00:00,  4.31file/s] \n"
     ]
    }
   ],
   "source": [
    "import os\n",
    "import glob\n",
    "from tqdm import tqdm\n",
    "\n",
    "print(mapping_table.columns)\n",
    "\n",
    "\n",
    "# 指定目录路径\n",
    "dir_path = r'F:\\AI Repository\\Motion Diffusion\\SoulsAnim\\ER'\n",
    "\n",
    "# 获取目录中所有的 JSON 文件\n",
    "json_files = glob.glob(os.path.join(dir_path, '*.json'))\n",
    "\n",
    "# 使用 tqdm 进度条包装 json_files 列表\n",
    "for i, file_path in enumerate(tqdm(json_files, desc=\"Processing files\", unit=\"file\")):\n",
    "    # print(os.path.basename(file_path))\n",
    "    json2amass_npz(file_path, mapping_table)\n"
   ]
  },
  {
   "cell_type": "code",
   "execution_count": null,
   "metadata": {},
   "outputs": [],
   "source": [
    "import os\n",
    "import shutil\n",
    "\n",
    "# 源目录和目标目录\n",
    "source_dir = 'F:\\AI Repository\\Motion Diffusion\\SoulsAnim'\n",
    "dest_dir = 'F:\\AI Repository\\Motion Diffusion\\SoulsAmass'\n",
    "\n",
    "# 遍历源目录下的所有文件和子目录\n",
    "for root, dirs, files in os.walk(source_dir):\n",
    "    # 对于每个文件\n",
    "    for file in files:\n",
    "        # 如果文件是以'.npz'结尾的\n",
    "        if file.endswith('.npz'):\n",
    "            # 计算文件的相对路径\n",
    "            rel_path = os.path.relpath(os.path.join(root, file), source_dir)\n",
    "            # 构造目标路径\n",
    "            dest_path = os.path.join(dest_dir, rel_path)\n",
    "            # 如果目标路径不存在，则创建目录\n",
    "            if not os.path.exists(os.path.dirname(dest_path)):\n",
    "                os.makedirs(os.path.dirname(dest_path))\n",
    "            # 复制文件\n",
    "            shutil.copyfile(os.path.join(root, file), dest_path)\n"
   ]
  }
 ],
 "metadata": {
  "kernelspec": {
   "display_name": "MiniIK",
   "language": "python",
   "name": "python3"
  },
  "language_info": {
   "codemirror_mode": {
    "name": "ipython",
    "version": 3
   },
   "file_extension": ".py",
   "mimetype": "text/x-python",
   "name": "python",
   "nbconvert_exporter": "python",
   "pygments_lexer": "ipython3",
   "version": "3.7.13"
  },
  "orig_nbformat": 4
 },
 "nbformat": 4,
 "nbformat_minor": 2
}
